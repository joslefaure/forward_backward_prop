{
 "cells": [
  {
   "cell_type": "code",
   "execution_count": 5,
   "metadata": {},
   "outputs": [
    {
     "name": "stdout",
     "output_type": "stream",
     "text": [
      "['a.txt', 3]\n",
      "['c.jpg', 2]\n",
      "['b.txt', 2]\n"
     ]
    }
   ],
   "source": [
    "urls = [\n",
    "\"http://www.google.com/a.txt\",\n",
    "\"http://www.google.com.tw/a.txt\",\n",
    "\"http://www.google.com/download/c.jpg\",\n",
    "\"http://www.google.co.jp/a.txt\",\n",
    "\"http://www.google.com/b.txt\",\n",
    "\"https://facebook.com/movie/b.txt\",\n",
    "\"http://yahoo.com/123/000/c.jpg\",\n",
    "\"http://gliacloud.com/haha.png\",\n",
    "]\n",
    "\n",
    "count = 0\n",
    "filenames = [] # create an empty list\n",
    "for link in urls:\n",
    "    filenames.append(link[link.rfind(\"/\")+1:]) # append the name of of each file to the list\n",
    "\n",
    "occurence = [[x, filenames.count(x)] for x in set(filenames)] # a list of list of each file and their occurence\n",
    "result = sorted(occurence, key=lambda x: x[1], reverse=True)[:3]\n",
    "\n",
    "# print the result in separare lines\n",
    "for l in result:\n",
    "    print(l)  "
   ]
  },
  {
   "cell_type": "code",
   "execution_count": null,
   "metadata": {},
   "outputs": [],
   "source": []
  }
 ],
 "metadata": {
  "kernelspec": {
   "display_name": "Python 2",
   "language": "python",
   "name": "python2"
  },
  "language_info": {
   "codemirror_mode": {
    "name": "ipython",
    "version": 2
   },
   "file_extension": ".py",
   "mimetype": "text/x-python",
   "name": "python",
   "nbconvert_exporter": "python",
   "pygments_lexer": "ipython2",
   "version": "2.7.15"
  }
 },
 "nbformat": 4,
 "nbformat_minor": 2
}
